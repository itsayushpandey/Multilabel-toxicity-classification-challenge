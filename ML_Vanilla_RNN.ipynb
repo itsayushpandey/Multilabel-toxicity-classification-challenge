{
  "cells": [
    {
      "cell_type": "code",
      "execution_count": null,
      "metadata": {
        "colab": {
          "base_uri": "https://localhost:8080/"
        },
        "id": "PvU5y_BJsJlY",
        "outputId": "d78b5fba-ecd9-49f1-9f50-64714858f1a2"
      },
      "outputs": [
        {
          "output_type": "stream",
          "name": "stdout",
          "text": [
            "Drive already mounted at /content/drive; to attempt to forcibly remount, call drive.mount(\"/content/drive\", force_remount=True).\n"
          ]
        }
      ],
      "source": [
        "import numpy as np\n",
        "import pandas as pd\n",
        "\n",
        "\n",
        "#device = 'cuda' if cuda.is_available() else 'cpu'\n",
        "#print(device)\n",
        "\n",
        "from google.colab import drive\n",
        "drive.mount('/content/drive')"
      ]
    },
    {
      "cell_type": "code",
      "execution_count": null,
      "metadata": {
        "id": "_gRy622zsfjW"
      },
      "outputs": [],
      "source": [
        "label_cols = ['toxic', 'severe_toxic', 'obscene', 'threat', 'insult', 'identity_hate']\n",
        "train_data = pd.read_csv('/content/drive/MyDrive/datasets/split/train.csv')\n",
        "valid_data = pd.read_csv('/content/drive/MyDrive/datasets/split/valid.csv')\n",
        "test_data = pd.read_csv('/content/drive/MyDrive/datasets/split/test.csv')\n",
        "\n",
        "train = train_data"
      ]
    },
    {
      "cell_type": "code",
      "execution_count": null,
      "metadata": {
        "id": "YWDSfYS4yUsc",
        "colab": {
          "base_uri": "https://localhost:8080/"
        },
        "outputId": "6d79aa44-6625-4b32-abe6-e07f6c3e0a3d"
      },
      "outputs": [
        {
          "output_type": "stream",
          "name": "stdout",
          "text": [
            "toxic\n",
            "0    115434\n",
            "1     12223\n",
            "severe_toxic\n",
            "0    126396\n",
            "1      1261\n",
            "obscene\n",
            "0    120908\n",
            "1      6749\n",
            "threat\n",
            "0    127279\n",
            "1       378\n",
            "insult\n",
            "0    121391\n",
            "1      6266\n",
            "identity_hate\n",
            "0    126544\n",
            "1      1113\n"
          ]
        }
      ],
      "source": [
        "labels = ['toxic', 'severe_toxic', 'obscene', 'threat', 'insult', 'identity_hate']\n",
        "for label in labels:\n",
        "    print(label)\n",
        "    print(train[label].value_counts().to_string())"
      ]
    },
    {
      "cell_type": "code",
      "execution_count": null,
      "metadata": {
        "id": "JVsyX0vAuX6m",
        "colab": {
          "base_uri": "https://localhost:8080/"
        },
        "outputId": "fa794400-eb9d-4c63-a70b-0f5815643705"
      },
      "outputs": [
        {
          "output_type": "stream",
          "name": "stderr",
          "text": [
            "[nltk_data] Downloading package wordnet to /root/nltk_data...\n",
            "[nltk_data]   Package wordnet is already up-to-date!\n",
            "[nltk_data] Downloading package averaged_perceptron_tagger to\n",
            "[nltk_data]     /root/nltk_data...\n",
            "[nltk_data]   Package averaged_perceptron_tagger is already up-to-\n",
            "[nltk_data]       date!\n",
            "[nltk_data] Downloading package punkt to /root/nltk_data...\n",
            "[nltk_data]   Package punkt is already up-to-date!\n",
            "[nltk_data] Downloading package omw-1.4 to /root/nltk_data...\n",
            "[nltk_data]   Package omw-1.4 is already up-to-date!\n",
            "[nltk_data] Downloading package stopwords to /root/nltk_data...\n",
            "[nltk_data]   Package stopwords is already up-to-date!\n"
          ]
        }
      ],
      "source": [
        "import nltk\n",
        "nltk.download('wordnet')\n",
        "nltk.download('averaged_perceptron_tagger')\n",
        "nltk.download('punkt')\n",
        "nltk.download('omw-1.4')\n",
        "nltk.download('stopwords')\n",
        "from nltk.tokenize import word_tokenize, sent_tokenize\n",
        "from keras.preprocessing.text import Tokenizer\n",
        "from nltk.stem import SnowballStemmer, LancasterStemmer, PorterStemmer, WordNetLemmatizer\n",
        "from nltk.corpus import wordnet\n",
        "from keras.preprocessing import sequence\n",
        "from keras.utils import pad_sequences\n",
        "\n",
        "import warnings\n",
        "warnings.filterwarnings('ignore')\n",
        "\n",
        "from nltk.corpus import stopwords\n",
        "from nltk.corpus import words"
      ]
    },
    {
      "cell_type": "code",
      "source": [
        "def clean_data(df):\n",
        "  df[\"comment_text\"] = df[\"comment_text\"].str.lower()\n",
        "  df[\"comment_text\"] = df[\"comment_text\"].str.replace(\"\\xa0\", \" \", regex=False).str.split().str.join(\" \")"
      ],
      "metadata": {
        "id": "tj_lfgVx0afv"
      },
      "execution_count": null,
      "outputs": []
    },
    {
      "cell_type": "code",
      "source": [
        "#Data Cleaning\n",
        "clean_data(train_data)\n",
        "clean_data(valid_data)\n",
        "clean_data(test_data)"
      ],
      "metadata": {
        "id": "8qA8JQke0cMh"
      },
      "execution_count": null,
      "outputs": []
    },
    {
      "cell_type": "code",
      "execution_count": null,
      "metadata": {
        "id": "qR8wKM7LyJ30",
        "colab": {
          "base_uri": "https://localhost:8080/"
        },
        "outputId": "5ca8f63d-6fef-4fe9-c021-5db7123b1f82"
      },
      "outputs": [
        {
          "output_type": "stream",
          "name": "stdout",
          "text": [
            "bigX shape: (127657,)\n",
            "bigy shape: (127657, 6)\n",
            "[[0 0 0 0 0 0]\n",
            " [0 0 0 0 0 0]\n",
            " [0 0 0 0 0 0]\n",
            " ...\n",
            " [0 0 0 0 0 0]\n",
            " [0 0 0 0 0 0]\n",
            " [0 0 0 0 0 0]]\n"
          ]
        }
      ],
      "source": [
        "# bigX = train.drop(labels,axis=1).to_numpy().reshape(-1,)\n",
        "# bigy = train[labels].to_numpy()\n",
        "bigX = train_data['comment_text'].to_numpy().reshape(-1,)\n",
        "bigy = train_data[labels].to_numpy()\n",
        "print('bigX shape:', bigX.shape)\n",
        "print('bigy shape:', bigy.shape)\n",
        "print(bigy)\n"
      ]
    },
    {
      "cell_type": "code",
      "execution_count": null,
      "metadata": {
        "id": "GJdvGQMKyM19"
      },
      "outputs": [],
      "source": [
        "'''from sklearn.model_selection import train_test_split\n",
        "X_train_dev, X_test, y_train_dev, y_test = train_test_split(bigX, bigy,\n",
        "                                                    test_size=0.2)\n",
        "\n",
        "X_train, X_val, y_train, y_val = train_test_split(X_train_dev, y_train_dev,\n",
        "                                                    test_size=0.2)\n",
        "'''\n",
        "X_train = train_data['comment_text'].to_numpy().reshape(-1,)\n",
        "y_train = train_data[labels].to_numpy()\n",
        "X_val = valid_data['comment_text'].to_numpy().reshape(-1,)\n",
        "y_val = valid_data[labels].to_numpy()\n",
        "X_test = test_data['comment_text'].to_numpy().reshape(-1,)\n",
        "y_test = test_data[labels].to_numpy()"
      ]
    },
    {
      "cell_type": "code",
      "execution_count": null,
      "metadata": {
        "id": "fzjzkMd2ye-j"
      },
      "outputs": [],
      "source": [
        "max_words = 1000\n",
        "max_len = 150\n",
        "tok = Tokenizer(num_words=max_words)\n",
        "tok.fit_on_texts(bigX)\n",
        "sequences = tok.texts_to_sequences(X_train)\n",
        "sequences_matrix_train = pad_sequences(sequences,maxlen=max_len)\n",
        "sequences = tok.texts_to_sequences(X_test)\n",
        "sequences_matrix_test = pad_sequences(sequences,maxlen=max_len)\n",
        "sequences = tok.texts_to_sequences(X_val)\n",
        "sequences_matrix_val = pad_sequences(sequences,maxlen=max_len)\n",
        "# sequences = tok.texts_to_sequences(bigX)\n",
        "# sequences_matrix_big = pad_sequences(sequences,maxlen=max_len)"
      ]
    },
    {
      "cell_type": "code",
      "execution_count": null,
      "metadata": {
        "colab": {
          "base_uri": "https://localhost:8080/"
        },
        "id": "MMNfRvz9yinp",
        "outputId": "29cd4c09-5623-4280-dc5b-2aaee3e6e7d5"
      },
      "outputs": [
        {
          "output_type": "stream",
          "name": "stdout",
          "text": [
            "Model: \"sequential_4\"\n",
            "_________________________________________________________________\n",
            " Layer (type)                Output Shape              Param #   \n",
            "=================================================================\n",
            " embedding_4 (Embedding)     (None, 150, 50)           50000     \n",
            "                                                                 \n",
            " simple_rnn_4 (SimpleRNN)    (None, 64)                7360      \n",
            "                                                                 \n",
            " dense_8 (Dense)             (None, 256)               16640     \n",
            "                                                                 \n",
            " dense_9 (Dense)             (None, 6)                 1542      \n",
            "                                                                 \n",
            "=================================================================\n",
            "Total params: 75,542\n",
            "Trainable params: 75,542\n",
            "Non-trainable params: 0\n",
            "_________________________________________________________________\n"
          ]
        }
      ],
      "source": [
        "from tensorflow.keras import models\n",
        "from tensorflow.keras import layers\n",
        "from tensorflow.keras import optimizers\n",
        "\n",
        "model = models.Sequential()\n",
        "# should the output shape be 768 like BERT had?\n",
        "model.add(layers.Embedding(max_words,50,input_length=max_len, input_shape=[max_len]))\n",
        "model.add(layers.SimpleRNN(64, dropout=0.2)) # use same arguments as LSTM but for SimpleRNN layer\n",
        "model.add(layers.Dense(256, activation='relu'))\n",
        "model.add(layers.Dense(6, activation='sigmoid')) # this activation function is different form BERT, which is using linear\n",
        "\n",
        "model.summary()"
      ]
    },
    {
      "cell_type": "code",
      "execution_count": null,
      "metadata": {
        "id": "GfIutNrxylHu"
      },
      "outputs": [],
      "source": [
        "LEARNING_RATE = 1e-05\n",
        "model.compile(optimizer=optimizers.Adam(learning_rate=LEARNING_RATE),\n",
        "              loss='binary_crossentropy',\n",
        "              metrics=['accuracy'])"
      ]
    },
    {
      "cell_type": "code",
      "execution_count": null,
      "metadata": {
        "colab": {
          "base_uri": "https://localhost:8080/"
        },
        "id": "gowClKXeynqU",
        "outputId": "4d07a6bf-cbfc-4d7e-f91a-ffabe0365447"
      },
      "outputs": [
        {
          "output_type": "stream",
          "name": "stdout",
          "text": [
            "250/250 [==============================] - 107s 420ms/step - loss: 0.6529 - accuracy: 0.1029 - val_loss: 0.5825 - val_accuracy: 0.0200\n"
          ]
        }
      ],
      "source": [
        "history = model.fit(sequences_matrix_train,\n",
        "                    y_train,\n",
        "                    epochs=1,\n",
        "                    batch_size=512,\n",
        "                    validation_data=(sequences_matrix_val, y_val))"
      ]
    },
    {
      "cell_type": "code",
      "execution_count": null,
      "metadata": {
        "colab": {
          "base_uri": "https://localhost:8080/",
          "height": 927
        },
        "id": "n9FTofwuysZE",
        "outputId": "a1d9a7d9-56e7-4044-d48c-b942548eda31"
      },
      "outputs": [
        {
          "output_type": "display_data",
          "data": {
            "text/plain": [
              "<Figure size 640x480 with 1 Axes>"
            ],
            "image/png": "[encoded data removed]"
          },
          "metadata": {}
        },
        {
          "output_type": "display_data",
          "data": {
            "text/plain": [
              "<Figure size 640x480 with 1 Axes>"
            ],
            "image/png": "[encoded data removed]"
          },
          "metadata": {}
        }
      ],
      "source": [
        "import matplotlib.pyplot as plt\n",
        "\n",
        "acc = history.history['accuracy']\n",
        "val_acc = history.history['val_accuracy']\n",
        "loss = history.history['loss']\n",
        "val_loss = history.history['val_loss']\n",
        "\n",
        "epochs = range(1, len(acc) + 1)\n",
        "\n",
        "plt.plot(epochs, loss, 'bo', label='Training loss')\n",
        "plt.plot(epochs, val_loss, 'b', label='Validation loss')\n",
        "plt.title('Training and validation loss')\n",
        "plt.xlabel('Epochs')\n",
        "plt.ylabel('Loss')\n",
        "plt.legend()\n",
        "\n",
        "plt.show()\n",
        "\n",
        "plt.plot(epochs, acc, 'bo', label='Training acc')\n",
        "plt.plot(epochs, val_acc, 'b', label='Validation acc')\n",
        "plt.title('Training and validation accuracy')\n",
        "plt.xlabel('Epochs')\n",
        "plt.ylabel('Accuracy')\n",
        "plt.legend()\n",
        "\n",
        "plt.show()"
      ]
    },
    {
      "cell_type": "code",
      "execution_count": null,
      "metadata": {
        "colab": {
          "base_uri": "https://localhost:8080/"
        },
        "id": "gGfgLeALy0W2",
        "outputId": "b21d0d79-446b-4fdf-a2a3-db328ad1d3af"
      },
      "outputs": [
        {
          "output_type": "stream",
          "name": "stdout",
          "text": [
            "2000/2000 [==============================] - 27s 14ms/step - loss: 0.5826 - accuracy: 0.0186\n"
          ]
        }
      ],
      "source": [
        "results = model.evaluate(sequences_matrix_test, y_test)"
      ]
    },
    {
      "cell_type": "code",
      "execution_count": null,
      "metadata": {
        "colab": {
          "base_uri": "https://localhost:8080/",
          "height": 1000
        },
        "id": "BrFasPLty1B8",
        "outputId": "f203e88d-2add-477b-bb5f-5c9106a5070c"
      },
      "outputs": [
        {
          "output_type": "stream",
          "name": "stdout",
          "text": [
            "Epoch 1/5\n",
            "250/250 [==============================] - 95s 382ms/step - loss: 0.4966 - accuracy: 0.1798 - val_loss: 0.4040 - val_accuracy: 0.8523\n",
            "Epoch 2/5\n",
            "250/250 [==============================] - 97s 386ms/step - loss: 0.3275 - accuracy: 0.9818 - val_loss: 0.2642 - val_accuracy: 0.9935\n",
            "Epoch 3/5\n",
            "250/250 [==============================] - 117s 469ms/step - loss: 0.2246 - accuracy: 0.9943 - val_loss: 0.1956 - val_accuracy: 0.9935\n",
            "Epoch 4/5\n",
            "250/250 [==============================] - 95s 380ms/step - loss: 0.1775 - accuracy: 0.9943 - val_loss: 0.1659 - val_accuracy: 0.9935\n",
            "Epoch 5/5\n",
            "250/250 [==============================] - 97s 389ms/step - loss: 0.1572 - accuracy: 0.9943 - val_loss: 0.1530 - val_accuracy: 0.9934\n"
          ]
        },
        {
          "output_type": "display_data",
          "data": {
            "text/plain": [
              "<Figure size 640x480 with 1 Axes>"
            ],
            "image/png": "[encoded data removed]"
          },
          "metadata": {}
        },
        {
          "output_type": "display_data",
          "data": {
            "text/plain": [
              "<Figure size 640x480 with 1 Axes>"
            ],
            "image/png": "[encoded data removed]"
          },
          "metadata": {}
        },
        {
          "output_type": "stream",
          "name": "stdout",
          "text": [
            "2000/2000 [==============================] - 29s 14ms/step - loss: 0.1548 - accuracy: 0.9975\n"
          ]
        },
        {
          "output_type": "execute_result",
          "data": {
            "text/plain": [
              "[0.15480181574821472, 0.9975304007530212]"
            ]
          },
          "metadata": {},
          "execution_count": 77
        }
      ],
      "source": [
        "'''model = models.Sequential()\n",
        "model.add(layers.Embedding(max_words,50,input_length=max_len, input_shape=[max_len]))\n",
        "model.add(layers.SimpleRNN(64, dropout=0.2)) # use same arguments as LSTM but for SimpleRNN layer\n",
        "model.add(layers.Dense(256, activation='relu'))\n",
        "model.add(layers.Dense(6, activation='sigmoid'))\n",
        "\n",
        "model.compile(optimizer='rmsprop',\n",
        "              loss='binary_crossentropy',\n",
        "              metrics=['accuracy'])'''\n",
        "\n",
        "history = model.fit(sequences_matrix_train,\n",
        "                    y_train,\n",
        "                    epochs=5,\n",
        "                    batch_size=512,\n",
        "                    validation_data=(sequences_matrix_val, y_val))\n",
        "\n",
        "acc = history.history['accuracy']\n",
        "val_acc_values = history.history['val_accuracy']\n",
        "loss = history.history['loss']\n",
        "val_loss = history.history['val_loss']\n",
        "\n",
        "epochs = range(1, len(acc) + 1)\n",
        "\n",
        "plt.plot(epochs, loss, 'bo', label='Training loss')\n",
        "plt.plot(epochs, val_loss, 'b', label='Validation loss')\n",
        "plt.title('Training and validation loss')\n",
        "plt.xlabel('Epochs')\n",
        "plt.ylabel('Loss')\n",
        "plt.legend()\n",
        "\n",
        "plt.show()\n",
        "\n",
        "plt.plot(epochs, acc, 'bo', label='Training acc')\n",
        "plt.plot(epochs, val_acc_values, 'b', label='Validation acc')\n",
        "plt.title('Training and validation accuracy')\n",
        "plt.xlabel('Epochs')\n",
        "plt.ylabel('Accuracy')\n",
        "plt.legend()\n",
        "\n",
        "plt.show()\n",
        "\n",
        "model.evaluate(sequences_matrix_test, y_test)"
      ]
    },
    {
      "cell_type": "code",
      "execution_count": null,
      "metadata": {
        "colab": {
          "base_uri": "https://localhost:8080/"
        },
        "id": "kvNkpcBkzNSX",
        "outputId": "fd86e189-867e-4133-ff6e-fc620fa0f349"
      },
      "outputs": [
        {
          "output_type": "stream",
          "name": "stdout",
          "text": [
            "2000/2000 [==============================] - 25s 13ms/step - loss: 0.1548 - accuracy: 0.9975\n"
          ]
        }
      ],
      "source": [
        "results = model.evaluate(sequences_matrix_test, y_test)"
      ]
    },
    {
      "cell_type": "code",
      "execution_count": null,
      "metadata": {
        "id": "RXyDAnuzzROQ",
        "colab": {
          "base_uri": "https://localhost:8080/"
        },
        "outputId": "79fa039b-1d55-4a30-9aca-be243cadae15"
      },
      "outputs": [
        {
          "output_type": "stream",
          "name": "stdout",
          "text": [
            "number of non-clean comments in test set: (6243,) (6243, 6)\n",
            "performance on non-clean comments:\n",
            "196/196 [==============================] - 3s 15ms/step - loss: 1.0041 - accuracy: 0.9749\n",
            "196/196 [==============================] - 2s 11ms/step\n",
            "[[0.11460496 0.03994374 0.06570703 0.04295579 0.07385427 0.02928961]\n",
            " [0.11244692 0.03855587 0.06522228 0.04235309 0.07383259 0.02921637]\n",
            " [0.11487301 0.04047782 0.06707074 0.04357798 0.07469086 0.030027  ]\n",
            " ...\n",
            " [0.11367005 0.03910086 0.06509462 0.04267918 0.0740348  0.02948553]\n",
            " [0.11408063 0.03992641 0.06687392 0.04283418 0.07477122 0.02955071]\n",
            " [0.11563692 0.03962445 0.06691939 0.04244314 0.07446423 0.02969142]]\n",
            "\n",
            "dirty labels:\n",
            "[[1 0 0 0 0 0]\n",
            " [1 0 1 0 1 1]\n",
            " [1 0 1 0 1 0]\n",
            " ...\n",
            " [1 0 0 0 0 0]\n",
            " [1 0 1 0 0 0]\n",
            " [1 0 1 0 1 0]]\n",
            "\n",
            "number of non-clean comments in test set: (57735,) (57735, 6)\n",
            "performance on clean comments:\n",
            "1805/1805 [==============================] - 25s 14ms/step - loss: 0.0630 - accuracy: 1.0000\n",
            "1805/1805 [==============================] - 23s 13ms/step\n",
            "[[0.11353894 0.0386526  0.06457733 0.04216735 0.07296695 0.02901111]\n",
            " [0.11208633 0.03953235 0.06566662 0.04220928 0.07271223 0.02916151]\n",
            " [0.11277797 0.03880376 0.06555728 0.04197963 0.07235918 0.02939802]\n",
            " ...\n",
            " [0.1138388  0.03988809 0.06663015 0.04219488 0.0736042  0.02979276]\n",
            " [0.11378685 0.03920663 0.06577207 0.04264455 0.07284976 0.02931807]\n",
            " [0.1128213  0.03922771 0.06574023 0.04178522 0.07308526 0.02940002]]\n",
            "\n",
            "clean labels:\n",
            "[[0 0 0 0 0 0]\n",
            " [0 0 0 0 0 0]\n",
            " [0 0 0 0 0 0]\n",
            " ...\n",
            " [0 0 0 0 0 0]\n",
            " [0 0 0 0 0 0]\n",
            " [0 0 0 0 0 0]]\n"
          ]
        }
      ],
      "source": [
        "# now, try to see how accurate the model is on comments with at least one label true\n",
        "#print(test_data.iloc[:,2:])\n",
        "#print()\n",
        "rowSums = test_data.iloc[:,2:].sum(axis=1)\n",
        "clean_comments_count = (rowSums==0).sum(axis=0)\n",
        "\n",
        "# see how it performs on non-clean comments\n",
        "dirty_rows = (rowSums!=0)\n",
        "#print('dirty rows:', dirty_rows)\n",
        "dirty_X_test = X_test[dirty_rows]\n",
        "dirty_y_test = y_test[dirty_rows, :]\n",
        "print('number of non-clean comments in test set:', dirty_X_test.shape, dirty_y_test.shape)\n",
        "sequences = tok.texts_to_sequences(dirty_X_test)\n",
        "sequences_matrix_dirty_test = pad_sequences(sequences,maxlen=max_len)\n",
        "print('performance on non-clean comments:')\n",
        "results = model.evaluate(sequences_matrix_dirty_test, dirty_y_test)\n",
        "print(model.predict(sequences_matrix_dirty_test))\n",
        "print()\n",
        "print('dirty labels:')\n",
        "print(dirty_y_test)\n",
        "print()\n",
        "\n",
        "# see how it performs on clean comments\n",
        "clean_rows = (rowSums==0)\n",
        "#print('clean rows:', clean_rows)\n",
        "clean_X_test = X_test[clean_rows]\n",
        "clean_y_test = y_test[clean_rows]\n",
        "print('number of non-clean comments in test set:', clean_X_test.shape, clean_y_test.shape)\n",
        "sequences = tok.texts_to_sequences(clean_X_test)\n",
        "sequences_matrix_clean_test = pad_sequences(sequences,maxlen=max_len)\n",
        "print('performance on clean comments:')\n",
        "results = model.evaluate(sequences_matrix_clean_test, clean_y_test)\n",
        "print(model.predict(sequences_matrix_clean_test))\n",
        "print()\n",
        "\n",
        "print('clean labels:')\n",
        "print(clean_y_test)"
      ]
    },
    {
      "cell_type": "code",
      "source": [
        "from sklearn import metrics\n",
        "\n",
        "valid_outputs = model.predict(sequences_matrix_val)\n",
        "valid_final_outputs_for_accuracy = np.where(valid_outputs < 0.5, 0.0, 1.0)\n",
        "print('validation output raw')\n",
        "print(valid_outputs.shape)\n",
        "print(valid_outputs)\n",
        "print()\n",
        "print('validation accuracy labels:', valid_final_outputs_for_accuracy)\n",
        "print()\n",
        "\n",
        "test_outputs = model.predict(sequences_matrix_test)\n",
        "test_final_outputs_for_accuracy = np.where(test_outputs < 0.5, 0.0, 1.0)\n",
        "print('test output raw')\n",
        "print(test_outputs.shape)\n",
        "print(test_outputs)\n",
        "print()\n",
        "print('test accuracy labels:', test_final_outputs_for_accuracy)\n",
        "print()\n",
        "\n",
        "print('Validation accuracy:', metrics.accuracy_score(y_val, valid_final_outputs_for_accuracy))\n",
        "print('Test accuracy:', metrics.accuracy_score(y_test, test_final_outputs_for_accuracy))"
      ],
      "metadata": {
        "colab": {
          "base_uri": "https://localhost:8080/"
        },
        "id": "gDWUIugK1LDM",
        "outputId": "079ba659-9220-4466-948b-1a88c554e680"
      },
      "execution_count": null,
      "outputs": [
        {
          "output_type": "stream",
          "name": "stdout",
          "text": [
            "998/998 [==============================] - 12s 12ms/step\n",
            "validation output raw\n",
            "(31914, 6)\n",
            "[[0.11324552 0.0388719  0.06637551 0.04222584 0.07333806 0.02920826]\n",
            " [0.11507612 0.03941985 0.06642573 0.04312627 0.07408097 0.02929336]\n",
            " [0.115802   0.03976172 0.06683272 0.04280884 0.07442755 0.02942736]\n",
            " ...\n",
            " [0.114037   0.03947796 0.06673159 0.04201806 0.07342892 0.03010011]\n",
            " [0.11319015 0.0393497  0.06584789 0.04208544 0.07346676 0.02900043]\n",
            " [0.11330842 0.03911389 0.06681924 0.04153217 0.07296453 0.02933858]]\n",
            "\n",
            "validation accuracy labels: [[0. 0. 0. 0. 0. 0.]\n",
            " [0. 0. 0. 0. 0. 0.]\n",
            " [0. 0. 0. 0. 0. 0.]\n",
            " ...\n",
            " [0. 0. 0. 0. 0. 0.]\n",
            " [0. 0. 0. 0. 0. 0.]\n",
            " [0. 0. 0. 0. 0. 0.]]\n",
            "\n",
            "2000/2000 [==============================] - 26s 13ms/step\n",
            "validation output raw\n",
            "(31914, 6)\n",
            "[[0.11324552 0.0388719  0.06637551 0.04222584 0.07333806 0.02920826]\n",
            " [0.11507612 0.03941985 0.06642573 0.04312627 0.07408097 0.02929336]\n",
            " [0.115802   0.03976172 0.06683272 0.04280884 0.07442755 0.02942736]\n",
            " ...\n",
            " [0.114037   0.03947796 0.06673159 0.04201806 0.07342892 0.03010011]\n",
            " [0.11319015 0.0393497  0.06584789 0.04208544 0.07346676 0.02900043]\n",
            " [0.11330842 0.03911389 0.06681924 0.04153217 0.07296453 0.02933858]]\n",
            "\n",
            "test accuracy labels: [[0. 0. 0. 0. 0. 0.]\n",
            " [0. 0. 0. 0. 0. 0.]\n",
            " [0. 0. 0. 0. 0. 0.]\n",
            " ...\n",
            " [0. 0. 0. 0. 0. 0.]\n",
            " [0. 0. 0. 0. 0. 0.]\n",
            " [0. 0. 0. 0. 0. 0.]]\n",
            "\n",
            "Validation accuracy: 0.8973491257755217\n",
            "Test accuracy: 0.9024039513582794\n"
          ]
        }
      ]
    }
  ],
  "metadata": {
    "colab": {
      "provenance": []
    },
    "kernelspec": {
      "display_name": "Python 3",
      "name": "python3"
    },
    "language_info": {
      "name": "python"
    }
  },
  "nbformat": 4,
  "nbformat_minor": 0
}