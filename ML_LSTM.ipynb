{
  "nbformat": 4,
  "nbformat_minor": 0,
  "metadata": {
    "colab": {
      "provenance": []
    },
    "kernelspec": {
      "name": "python3",
      "display_name": "Python 3"
    },
    "language_info": {
      "name": "python"
    }
  },
  "cells": [
    {
      "cell_type": "code",
      "execution_count": null,
      "metadata": {
        "colab": {
          "base_uri": "https://localhost:8080/"
        },
        "id": "PvU5y_BJsJlY",
        "outputId": "cc452e70-fae1-4aad-dfe0-380b1be417a4"
      },
      "outputs": [
        {
          "output_type": "stream",
          "name": "stdout",
          "text": [
            "Mounted at /content/drive\n"
          ]
        }
      ],
      "source": [
        "import numpy as np\n",
        "import pandas as pd\n",
        "\n",
        "\n",
        "#device = 'cuda' if cuda.is_available() else 'cpu'\n",
        "#print(device)\n",
        "\n",
        "from google.colab import drive\n",
        "drive.mount('/content/drive')"
      ]
    },
    {
      "cell_type": "code",
      "source": [
        "label_cols = ['toxic', 'severe_toxic', 'obscene', 'threat', 'insult', 'identity_hate']\n",
        "train = pd.read_csv('/content/drive/MyDrive/datasets/train.csv')\n",
        "X_test = pd.read_csv('/content/drive/MyDrive/datasets/test.csv')\n",
        "y_test = pd.read_csv('/content/drive/MyDrive/datasets/test_labels.csv')\n"
      ],
      "metadata": {
        "id": "_gRy622zsfjW"
      },
      "execution_count": null,
      "outputs": []
    },
    {
      "cell_type": "code",
      "source": [
        "labels = ['toxic', 'severe_toxic', 'obscene', 'threat', 'insult', 'identity_hate']\n",
        "for label in labels:\n",
        "    print(label)\n",
        "    print(train[label].value_counts().to_string())"
      ],
      "metadata": {
        "colab": {
          "base_uri": "https://localhost:8080/"
        },
        "id": "YWDSfYS4yUsc",
        "outputId": "cf94aa4f-70b5-4a90-8d67-bb8291dc5553"
      },
      "execution_count": null,
      "outputs": [
        {
          "output_type": "stream",
          "name": "stdout",
          "text": [
            "toxic\n",
            "0    144277\n",
            "1     15294\n",
            "severe_toxic\n",
            "0    157976\n",
            "1      1595\n",
            "obscene\n",
            "0    151122\n",
            "1      8449\n",
            "threat\n",
            "0    159093\n",
            "1       478\n",
            "insult\n",
            "0    151694\n",
            "1      7877\n",
            "identity_hate\n",
            "0    158166\n",
            "1      1405\n"
          ]
        }
      ]
    },
    {
      "cell_type": "code",
      "source": [
        "import nltk\n",
        "nltk.download('wordnet')\n",
        "nltk.download('averaged_perceptron_tagger')\n",
        "nltk.download('punkt')\n",
        "nltk.download('omw-1.4')\n",
        "nltk.download('stopwords')\n",
        "from nltk.tokenize import word_tokenize, sent_tokenize\n",
        "from keras.preprocessing.text import Tokenizer\n",
        "from nltk.stem import SnowballStemmer, LancasterStemmer, PorterStemmer, WordNetLemmatizer\n",
        "from nltk.corpus import wordnet\n",
        "from keras.preprocessing import sequence\n",
        "from keras.utils import pad_sequences\n",
        "\n",
        "import warnings\n",
        "warnings.filterwarnings('ignore')\n",
        "\n",
        "from nltk.corpus import stopwords\n",
        "from nltk.corpus import words"
      ],
      "metadata": {
        "colab": {
          "base_uri": "https://localhost:8080/"
        },
        "id": "JVsyX0vAuX6m",
        "outputId": "de300a15-99fa-4f4e-ab8e-5dfaff1634dc"
      },
      "execution_count": null,
      "outputs": [
        {
          "output_type": "stream",
          "name": "stderr",
          "text": [
            "[nltk_data] Downloading package wordnet to /root/nltk_data...\n",
            "[nltk_data] Downloading package averaged_perceptron_tagger to\n",
            "[nltk_data]     /root/nltk_data...\n",
            "[nltk_data]   Unzipping taggers/averaged_perceptron_tagger.zip.\n",
            "[nltk_data] Downloading package punkt to /root/nltk_data...\n",
            "[nltk_data]   Unzipping tokenizers/punkt.zip.\n",
            "[nltk_data] Downloading package omw-1.4 to /root/nltk_data...\n",
            "[nltk_data] Downloading package stopwords to /root/nltk_data...\n",
            "[nltk_data]   Unzipping corpora/stopwords.zip.\n"
          ]
        }
      ]
    },
    {
      "cell_type": "code",
      "source": [
        "# word tokenization\n",
        "data = train['comment_text'][0]\n",
        "tokens = word_tokenize(data.lower())\n",
        "print('Before tokenizing')\n",
        "print(data)\n",
        "print()\n",
        "print('After tokenizing')\n",
        "print(tokens)\n",
        "\n",
        "new_tokens_porter = []\n",
        "porter = PorterStemmer()\n",
        "for token in tokens:\n",
        "    new_tokens_porter.append(porter.stem(token))\n",
        "print()\n",
        "print('After porter stemmer')\n",
        "print(new_tokens_porter)\n",
        "\n",
        "# Trying stemming\n",
        "\n",
        "# Porter's Stemmer is the oldest stemmer method. Porter's Stemmer applies a set of five sequential rule to determine common suffixes from sentences done with regular expressions\n",
        "# Snowball stemmer is an updated version of Porter’s Stemmer with new rules. The process is exactly the same as Porter’s Stemmer\n",
        "# Lancaster Stemmer rules are more agressive than Porter and Snowball and it is one of the most agressive stemmers. As a general rule of thumb, think that the rules of Lancaster’s Stemmer try to reduce the word to the shortest stem possible\n",
        "\n",
        "new_tokens_porter = []\n",
        "porter = PorterStemmer()\n",
        "for token in tokens:\n",
        "    new_tokens_porter.append(porter.stem(token))\n",
        "print()\n",
        "print('After porter stemmer')\n",
        "print(new_tokens_porter)\n",
        "\n",
        "new_tokens_snowball = []\n",
        "snowball = SnowballStemmer(language='english')\n",
        "for token in tokens:\n",
        "    new_tokens_snowball.append(snowball.stem(token))\n",
        "print()\n",
        "print('After snowball stemmer')\n",
        "print(new_tokens_snowball)\n",
        "\n",
        "new_tokens_lancaster = []\n",
        "lancaster = LancasterStemmer()\n",
        "for token in tokens:\n",
        "    new_tokens_lancaster.append(lancaster.stem(token))\n",
        "print()\n",
        "print('After lancaster stemmer')\n",
        "print(new_tokens_lancaster)\n",
        "# stemming does not refer to the root of the word\n",
        "\n",
        "# Trying lemmatization\n",
        "def get_pos(word):\n",
        "    tag = nltk.pos_tag([word])[0][1][0].upper()\n",
        "    tag_dict = {\"J\": wordnet.ADJ,\n",
        "                \"N\": wordnet.NOUN,\n",
        "                \"V\": wordnet.VERB,\n",
        "                \"R\": wordnet.ADV}\n",
        "    return tag_dict.get(tag, wordnet.NOUN)\n",
        "\n",
        "new_tokens_lemmatizer = []\n",
        "lemmatizer = WordNetLemmatizer()\n",
        "for token in tokens:\n",
        "    new_tokens_lemmatizer.append(lemmatizer.lemmatize(token, get_pos(token)))\n",
        "print()\n",
        "print('After wordnet lemmatizer')\n",
        "print(new_tokens_lemmatizer)"
      ],
      "metadata": {
        "colab": {
          "base_uri": "https://localhost:8080/"
        },
        "id": "mRIko-ZcxIZV",
        "outputId": "85675371-5f20-461c-abd3-b62112b0146f"
      },
      "execution_count": null,
      "outputs": [
        {
          "output_type": "stream",
          "name": "stdout",
          "text": [
            "Before tokenizing\n",
            "Explanation\n",
            "Why the edits made under my username Hardcore Metallica Fan were reverted? They weren't vandalisms, just closure on some GAs after I voted at New York Dolls FAC. And please don't remove the template from the talk page since I'm retired now.89.205.38.27\n",
            "\n",
            "After tokenizing\n",
            "['explanation', 'why', 'the', 'edits', 'made', 'under', 'my', 'username', 'hardcore', 'metallica', 'fan', 'were', 'reverted', '?', 'they', 'were', \"n't\", 'vandalisms', ',', 'just', 'closure', 'on', 'some', 'gas', 'after', 'i', 'voted', 'at', 'new', 'york', 'dolls', 'fac', '.', 'and', 'please', 'do', \"n't\", 'remove', 'the', 'template', 'from', 'the', 'talk', 'page', 'since', 'i', \"'m\", 'retired', 'now.89.205.38.27']\n",
            "\n",
            "After porter stemmer\n",
            "['explan', 'whi', 'the', 'edit', 'made', 'under', 'my', 'usernam', 'hardcor', 'metallica', 'fan', 'were', 'revert', '?', 'they', 'were', \"n't\", 'vandal', ',', 'just', 'closur', 'on', 'some', 'ga', 'after', 'i', 'vote', 'at', 'new', 'york', 'doll', 'fac', '.', 'and', 'pleas', 'do', \"n't\", 'remov', 'the', 'templat', 'from', 'the', 'talk', 'page', 'sinc', 'i', \"'m\", 'retir', 'now.89.205.38.27']\n",
            "\n",
            "After porter stemmer\n",
            "['explan', 'whi', 'the', 'edit', 'made', 'under', 'my', 'usernam', 'hardcor', 'metallica', 'fan', 'were', 'revert', '?', 'they', 'were', \"n't\", 'vandal', ',', 'just', 'closur', 'on', 'some', 'ga', 'after', 'i', 'vote', 'at', 'new', 'york', 'doll', 'fac', '.', 'and', 'pleas', 'do', \"n't\", 'remov', 'the', 'templat', 'from', 'the', 'talk', 'page', 'sinc', 'i', \"'m\", 'retir', 'now.89.205.38.27']\n",
            "\n",
            "After snowball stemmer\n",
            "['explan', 'whi', 'the', 'edit', 'made', 'under', 'my', 'usernam', 'hardcor', 'metallica', 'fan', 'were', 'revert', '?', 'they', 'were', \"n't\", 'vandal', ',', 'just', 'closur', 'on', 'some', 'gas', 'after', 'i', 'vote', 'at', 'new', 'york', 'doll', 'fac', '.', 'and', 'pleas', 'do', \"n't\", 'remov', 'the', 'templat', 'from', 'the', 'talk', 'page', 'sinc', 'i', \"'m\", 'retir', 'now.89.205.38.27']\n",
            "\n",
            "After lancaster stemmer\n",
            "['expl', 'why', 'the', 'edit', 'mad', 'und', 'my', 'usernam', 'hardc', 'metallic', 'fan', 'wer', 'revert', '?', 'they', 'wer', \"n't\", 'vand', ',', 'just', 'clos', 'on', 'som', 'gas', 'aft', 'i', 'vot', 'at', 'new', 'york', 'dol', 'fac', '.', 'and', 'pleas', 'do', \"n't\", 'remov', 'the', 'templ', 'from', 'the', 'talk', 'pag', 'sint', 'i', \"'m\", 'retir', 'now.89.205.38.27']\n",
            "\n",
            "After wordnet lemmatizer\n",
            "['explanation', 'why', 'the', 'edits', 'make', 'under', 'my', 'username', 'hardcore', 'metallica', 'fan', 'be', 'revert', '?', 'they', 'be', \"n't\", 'vandalism', ',', 'just', 'closure', 'on', 'some', 'gas', 'after', 'i', 'vote', 'at', 'new', 'york', 'doll', 'fac', '.', 'and', 'please', 'do', \"n't\", 'remove', 'the', 'template', 'from', 'the', 'talk', 'page', 'since', 'i', \"'m\", 'retire', 'now.89.205.38.27']\n"
          ]
        }
      ]
    },
    {
      "cell_type": "code",
      "source": [
        "train.drop('id', axis=1, inplace=True)\n",
        "train"
      ],
      "metadata": {
        "colab": {
          "base_uri": "https://localhost:8080/",
          "height": 424
        },
        "id": "5YsSRUEoyHLU",
        "outputId": "bf1c49c6-ca0f-4f0f-e1b2-e95fef6b22b0"
      },
      "execution_count": null,
      "outputs": [
        {
          "output_type": "execute_result",
          "data": {
            "text/plain": [
              "                                             comment_text  toxic  \\\n",
              "0       Explanation\\nWhy the edits made under my usern...      0   \n",
              "1       D'aww! He matches this background colour I'm s...      0   \n",
              "2       Hey man, I'm really not trying to edit war. It...      0   \n",
              "3       \"\\nMore\\nI can't make any real suggestions on ...      0   \n",
              "4       You, sir, are my hero. Any chance you remember...      0   \n",
              "...                                                   ...    ...   \n",
              "159566  \":::::And for the second time of asking, when ...      0   \n",
              "159567  You should be ashamed of yourself \\n\\nThat is ...      0   \n",
              "159568  Spitzer \\n\\nUmm, theres no actual article for ...      0   \n",
              "159569  And it looks like it was actually you who put ...      0   \n",
              "159570  \"\\nAnd ... I really don't think you understand...      0   \n",
              "\n",
              "        severe_toxic  obscene  threat  insult  identity_hate  \n",
              "0                  0        0       0       0              0  \n",
              "1                  0        0       0       0              0  \n",
              "2                  0        0       0       0              0  \n",
              "3                  0        0       0       0              0  \n",
              "4                  0        0       0       0              0  \n",
              "...              ...      ...     ...     ...            ...  \n",
              "159566             0        0       0       0              0  \n",
              "159567             0        0       0       0              0  \n",
              "159568             0        0       0       0              0  \n",
              "159569             0        0       0       0              0  \n",
              "159570             0        0       0       0              0  \n",
              "\n",
              "[159571 rows x 7 columns]"
            ],
            "text/html": [
              "\n",
              "  <div id=\"df-702b45d4-ca09-4189-9b46-da6e72e28d5a\">\n",
              "    <div class=\"colab-df-container\">\n",
              "      <div>\n",
              "<style scoped>\n",
              "    .dataframe tbody tr th:only-of-type {\n",
              "        vertical-align: middle;\n",
              "    }\n",
              "\n",
              "    .dataframe tbody tr th {\n",
              "        vertical-align: top;\n",
              "    }\n",
              "\n",
              "    .dataframe thead th {\n",
              "        text-align: right;\n",
              "    }\n",
              "</style>\n",
              "<table border=\"1\" class=\"dataframe\">\n",
              "  <thead>\n",
              "    <tr style=\"text-align: right;\">\n",
              "      <th></th>\n",
              "      <th>comment_text</th>\n",
              "      <th>toxic</th>\n",
              "      <th>severe_toxic</th>\n",
              "      <th>obscene</th>\n",
              "      <th>threat</th>\n",
              "      <th>insult</th>\n",
              "      <th>identity_hate</th>\n",
              "    </tr>\n",
              "  </thead>\n",
              "  <tbody>\n",
              "    <tr>\n",
              "      <th>0</th>\n",
              "      <td>Explanation\\nWhy the edits made under my usern...</td>\n",
              "      <td>0</td>\n",
              "      <td>0</td>\n",
              "      <td>0</td>\n",
              "      <td>0</td>\n",
              "      <td>0</td>\n",
              "      <td>0</td>\n",
              "    </tr>\n",
              "    <tr>\n",
              "      <th>1</th>\n",
              "      <td>D'aww! He matches this background colour I'm s...</td>\n",
              "      <td>0</td>\n",
              "      <td>0</td>\n",
              "      <td>0</td>\n",
              "      <td>0</td>\n",
              "      <td>0</td>\n",
              "      <td>0</td>\n",
              "    </tr>\n",
              "    <tr>\n",
              "      <th>2</th>\n",
              "      <td>Hey man, I'm really not trying to edit war. It...</td>\n",
              "      <td>0</td>\n",
              "      <td>0</td>\n",
              "      <td>0</td>\n",
              "      <td>0</td>\n",
              "      <td>0</td>\n",
              "      <td>0</td>\n",
              "    </tr>\n",
              "    <tr>\n",
              "      <th>3</th>\n",
              "      <td>\"\\nMore\\nI can't make any real suggestions on ...</td>\n",
              "      <td>0</td>\n",
              "      <td>0</td>\n",
              "      <td>0</td>\n",
              "      <td>0</td>\n",
              "      <td>0</td>\n",
              "      <td>0</td>\n",
              "    </tr>\n",
              "    <tr>\n",
              "      <th>4</th>\n",
              "      <td>You, sir, are my hero. Any chance you remember...</td>\n",
              "      <td>0</td>\n",
              "      <td>0</td>\n",
              "      <td>0</td>\n",
              "      <td>0</td>\n",
              "      <td>0</td>\n",
              "      <td>0</td>\n",
              "    </tr>\n",
              "    <tr>\n",
              "      <th>...</th>\n",
              "      <td>...</td>\n",
              "      <td>...</td>\n",
              "      <td>...</td>\n",
              "      <td>...</td>\n",
              "      <td>...</td>\n",
              "      <td>...</td>\n",
              "      <td>...</td>\n",
              "    </tr>\n",
              "    <tr>\n",
              "      <th>159566</th>\n",
              "      <td>\":::::And for the second time of asking, when ...</td>\n",
              "      <td>0</td>\n",
              "      <td>0</td>\n",
              "      <td>0</td>\n",
              "      <td>0</td>\n",
              "      <td>0</td>\n",
              "      <td>0</td>\n",
              "    </tr>\n",
              "    <tr>\n",
              "      <th>159567</th>\n",
              "      <td>You should be ashamed of yourself \\n\\nThat is ...</td>\n",
              "      <td>0</td>\n",
              "      <td>0</td>\n",
              "      <td>0</td>\n",
              "      <td>0</td>\n",
              "      <td>0</td>\n",
              "      <td>0</td>\n",
              "    </tr>\n",
              "    <tr>\n",
              "      <th>159568</th>\n",
              "      <td>Spitzer \\n\\nUmm, theres no actual article for ...</td>\n",
              "      <td>0</td>\n",
              "      <td>0</td>\n",
              "      <td>0</td>\n",
              "      <td>0</td>\n",
              "      <td>0</td>\n",
              "      <td>0</td>\n",
              "    </tr>\n",
              "    <tr>\n",
              "      <th>159569</th>\n",
              "      <td>And it looks like it was actually you who put ...</td>\n",
              "      <td>0</td>\n",
              "      <td>0</td>\n",
              "      <td>0</td>\n",
              "      <td>0</td>\n",
              "      <td>0</td>\n",
              "      <td>0</td>\n",
              "    </tr>\n",
              "    <tr>\n",
              "      <th>159570</th>\n",
              "      <td>\"\\nAnd ... I really don't think you understand...</td>\n",
              "      <td>0</td>\n",
              "      <td>0</td>\n",
              "      <td>0</td>\n",
              "      <td>0</td>\n",
              "      <td>0</td>\n",
              "      <td>0</td>\n",
              "    </tr>\n",
              "  </tbody>\n",
              "</table>\n",
              "<p>159571 rows × 7 columns</p>\n",
              "</div>\n",
              "      <button class=\"colab-df-convert\" onclick=\"convertToInteractive('df-702b45d4-ca09-4189-9b46-da6e72e28d5a')\"\n",
              "              title=\"Convert this dataframe to an interactive table.\"\n",
              "              style=\"display:none;\">\n",
              "        \n",
              "  <svg xmlns=\"http://www.w3.org/2000/svg\" height=\"24px\"viewBox=\"0 0 24 24\"\n",
              "       width=\"24px\">\n",
              "    <path d=\"M0 0h24v24H0V0z\" fill=\"none\"/>\n",
              "    <path d=\"M18.56 5.44l.94 2.06.94-2.06 2.06-.94-2.06-.94-.94-2.06-.94 2.06-2.06.94zm-11 1L8.5 8.5l.94-2.06 2.06-.94-2.06-.94L8.5 2.5l-.94 2.06-2.06.94zm10 10l.94 2.06.94-2.06 2.06-.94-2.06-.94-.94-2.06-.94 2.06-2.06.94z\"/><path d=\"M17.41 7.96l-1.37-1.37c-.4-.4-.92-.59-1.43-.59-.52 0-1.04.2-1.43.59L10.3 9.45l-7.72 7.72c-.78.78-.78 2.05 0 2.83L4 21.41c.39.39.9.59 1.41.59.51 0 1.02-.2 1.41-.59l7.78-7.78 2.81-2.81c.8-.78.8-2.07 0-2.86zM5.41 20L4 18.59l7.72-7.72 1.47 1.35L5.41 20z\"/>\n",
              "  </svg>\n",
              "      </button>\n",
              "      \n",
              "  <style>\n",
              "    .colab-df-container {\n",
              "      display:flex;\n",
              "      flex-wrap:wrap;\n",
              "      gap: 12px;\n",
              "    }\n",
              "\n",
              "    .colab-df-convert {\n",
              "      background-color: #E8F0FE;\n",
              "      border: none;\n",
              "      border-radius: 50%;\n",
              "      cursor: pointer;\n",
              "      display: none;\n",
              "      fill: #1967D2;\n",
              "      height: 32px;\n",
              "      padding: 0 0 0 0;\n",
              "      width: 32px;\n",
              "    }\n",
              "\n",
              "    .colab-df-convert:hover {\n",
              "      background-color: #E2EBFA;\n",
              "      box-shadow: 0px 1px 2px rgba(60, 64, 67, 0.3), 0px 1px 3px 1px rgba(60, 64, 67, 0.15);\n",
              "      fill: #174EA6;\n",
              "    }\n",
              "\n",
              "    [theme=dark] .colab-df-convert {\n",
              "      background-color: #3B4455;\n",
              "      fill: #D2E3FC;\n",
              "    }\n",
              "\n",
              "    [theme=dark] .colab-df-convert:hover {\n",
              "      background-color: #434B5C;\n",
              "      box-shadow: 0px 1px 3px 1px rgba(0, 0, 0, 0.15);\n",
              "      filter: drop-shadow(0px 1px 2px rgba(0, 0, 0, 0.3));\n",
              "      fill: #FFFFFF;\n",
              "    }\n",
              "  </style>\n",
              "\n",
              "      <script>\n",
              "        const buttonEl =\n",
              "          document.querySelector('#df-702b45d4-ca09-4189-9b46-da6e72e28d5a button.colab-df-convert');\n",
              "        buttonEl.style.display =\n",
              "          google.colab.kernel.accessAllowed ? 'block' : 'none';\n",
              "\n",
              "        async function convertToInteractive(key) {\n",
              "          const element = document.querySelector('#df-702b45d4-ca09-4189-9b46-da6e72e28d5a');\n",
              "          const dataTable =\n",
              "            await google.colab.kernel.invokeFunction('convertToInteractive',\n",
              "                                                     [key], {});\n",
              "          if (!dataTable) return;\n",
              "\n",
              "          const docLinkHtml = 'Like what you see? Visit the ' +\n",
              "            '<a target=\"_blank\" href=https://colab.research.google.com/notebooks/data_table.ipynb>data table notebook</a>'\n",
              "            + ' to learn more about interactive tables.';\n",
              "          element.innerHTML = '';\n",
              "          dataTable['output_type'] = 'display_data';\n",
              "          await google.colab.output.renderOutput(dataTable, element);\n",
              "          const docLink = document.createElement('div');\n",
              "          docLink.innerHTML = docLinkHtml;\n",
              "          element.appendChild(docLink);\n",
              "        }\n",
              "      </script>\n",
              "    </div>\n",
              "  </div>\n",
              "  "
            ]
          },
          "metadata": {},
          "execution_count": 6
        }
      ]
    },
    {
      "cell_type": "code",
      "source": [
        "bigX = train.drop(labels,axis=1).to_numpy().reshape(-1,)\n",
        "bigy = train[labels].to_numpy()"
      ],
      "metadata": {
        "id": "qR8wKM7LyJ30"
      },
      "execution_count": null,
      "outputs": []
    },
    {
      "cell_type": "code",
      "source": [
        "from sklearn.model_selection import train_test_split\n",
        "X_train_dev, X_test, y_train_dev, y_test = train_test_split(bigX, bigy,\n",
        "                                                    test_size=0.2)\n",
        "\n",
        "X_train, X_val, y_train, y_val = train_test_split(X_train_dev, y_train_dev,\n",
        "                                                    test_size=0.2)"
      ],
      "metadata": {
        "id": "GJdvGQMKyM19"
      },
      "execution_count": null,
      "outputs": []
    },
    {
      "cell_type": "code",
      "source": [
        "max_words = 1000\n",
        "max_len = 150\n",
        "tok = Tokenizer(num_words=max_words)\n",
        "tok.fit_on_texts(bigX)\n",
        "sequences = tok.texts_to_sequences(X_train)\n",
        "sequences_matrix_train = pad_sequences(sequences,maxlen=max_len)\n",
        "sequences = tok.texts_to_sequences(X_test)\n",
        "sequences_matrix_test = pad_sequences(sequences,maxlen=max_len)\n",
        "sequences = tok.texts_to_sequences(X_val)\n",
        "sequences_matrix_val = pad_sequences(sequences,maxlen=max_len)\n",
        "sequences = tok.texts_to_sequences(bigX)\n",
        "sequences_matrix_big = pad_sequences(sequences,maxlen=max_len)"
      ],
      "metadata": {
        "id": "fzjzkMd2ye-j"
      },
      "execution_count": null,
      "outputs": []
    },
    {
      "cell_type": "code",
      "source": [
        "from tensorflow.keras import models\n",
        "from tensorflow.keras import layers\n",
        "\n",
        "model = models.Sequential()\n",
        "model.add(layers.Embedding(max_words,50,input_length=max_len, input_shape=[max_len]))\n",
        "model.add(layers.LSTM(64, dropout=0.2))\n",
        "model.add(layers.Dense(256, activation='relu'))\n",
        "model.add(layers.Dense(6, activation='sigmoid'))\n",
        "\n",
        "model.summary()"
      ],
      "metadata": {
        "colab": {
          "base_uri": "https://localhost:8080/"
        },
        "id": "MMNfRvz9yinp",
        "outputId": "5ab43024-312c-487b-f356-118af954c8cd"
      },
      "execution_count": null,
      "outputs": [
        {
          "output_type": "stream",
          "name": "stdout",
          "text": [
            "Model: \"sequential\"\n",
            "_________________________________________________________________\n",
            " Layer (type)                Output Shape              Param #   \n",
            "=================================================================\n",
            " embedding (Embedding)       (None, 150, 50)           50000     \n",
            "                                                                 \n",
            " lstm (LSTM)                 (None, 64)                29440     \n",
            "                                                                 \n",
            " dense (Dense)               (None, 256)               16640     \n",
            "                                                                 \n",
            " dense_1 (Dense)             (None, 6)                 1542      \n",
            "                                                                 \n",
            "=================================================================\n",
            "Total params: 97,622\n",
            "Trainable params: 97,622\n",
            "Non-trainable params: 0\n",
            "_________________________________________________________________\n"
          ]
        }
      ]
    },
    {
      "cell_type": "code",
      "source": [
        "model.compile(optimizer='rmsprop',\n",
        "              loss='binary_crossentropy',\n",
        "              metrics=['accuracy'])"
      ],
      "metadata": {
        "id": "GfIutNrxylHu"
      },
      "execution_count": null,
      "outputs": []
    },
    {
      "cell_type": "code",
      "source": [
        "history = model.fit(sequences_matrix_train,\n",
        "                    y_train,\n",
        "                    epochs=1,\n",
        "                    batch_size=512,\n",
        "                    validation_data=(sequences_matrix_val, y_val))"
      ],
      "metadata": {
        "colab": {
          "base_uri": "https://localhost:8080/"
        },
        "id": "gowClKXeynqU",
        "outputId": "657df229-0d69-4b7b-d879-e2fe82b00d1f"
      },
      "execution_count": null,
      "outputs": [
        {
          "output_type": "stream",
          "name": "stdout",
          "text": [
            "200/200 [==============================] - 98s 479ms/step - loss: 0.1681 - accuracy: 0.9823 - val_loss: 0.1390 - val_accuracy: 0.9938\n"
          ]
        }
      ]
    },
    {
      "cell_type": "code",
      "source": [
        "import matplotlib.pyplot as plt\n",
        "\n",
        "acc = history.history['accuracy']\n",
        "val_acc = history.history['val_accuracy']\n",
        "loss = history.history['loss']\n",
        "val_loss = history.history['val_loss']\n",
        "\n",
        "epochs = range(1, len(acc) + 1)\n",
        "\n",
        "plt.plot(epochs, loss, 'bo', label='Training loss')\n",
        "plt.plot(epochs, val_loss, 'b', label='Validation loss')\n",
        "plt.title('Training and validation loss')\n",
        "plt.xlabel('Epochs')\n",
        "plt.ylabel('Loss')\n",
        "plt.legend()\n",
        "\n",
        "plt.show()\n",
        "\n",
        "plt.plot(epochs, acc, 'bo', label='Training acc')\n",
        "plt.plot(epochs, val_acc, 'b', label='Validation acc')\n",
        "plt.title('Training and validation accuracy')\n",
        "plt.xlabel('Epochs')\n",
        "plt.ylabel('Accuracy')\n",
        "plt.legend()\n",
        "\n",
        "plt.show()"
      ],
      "metadata": {
        "colab": {
          "base_uri": "https://localhost:8080/",
          "height": 927
        },
        "id": "n9FTofwuysZE",
        "outputId": "eccd29be-4fd4-494a-fd1d-7f8bd5a9046e"
      },
      "execution_count": null,
      "outputs": [
        {
          "output_type": "display_data",
          "data": {
            "text/plain": [
              "<Figure size 640x480 with 1 Axes>"
            ],
            "image/png": "[encoded data removed]"
          },
          "metadata": {}
        },
        {
          "output_type": "display_data",
          "data": {
            "text/plain": [
              "<Figure size 640x480 with 1 Axes>"
            ],
            "image/png": "[encoded data removed]"
          },
          "metadata": {}
        }
      ]
    },
    {
      "cell_type": "code",
      "source": [
        "results = model.evaluate(sequences_matrix_test, y_test)"
      ],
      "metadata": {
        "colab": {
          "base_uri": "https://localhost:8080/"
        },
        "id": "gGfgLeALy0W2",
        "outputId": "286d558d-e1f2-4e71-cfb5-2c0ce31e87a3"
      },
      "execution_count": null,
      "outputs": [
        {
          "output_type": "stream",
          "name": "stdout",
          "text": [
            "998/998 [==============================] - 16s 16ms/step - loss: 0.1356 - accuracy: 0.9940\n"
          ]
        }
      ]
    },
    {
      "cell_type": "code",
      "source": [
        "model = models.Sequential()\n",
        "model.add(layers.Embedding(max_words,50,input_length=max_len, input_shape=[max_len]))\n",
        "model.add(layers.LSTM(64, dropout=0.2))\n",
        "model.add(layers.Dense(256, activation='relu'))\n",
        "model.add(layers.Dense(6, activation='sigmoid'))\n",
        "\n",
        "model.compile(optimizer='rmsprop',\n",
        "              loss='binary_crossentropy',\n",
        "              metrics=['accuracy'])\n",
        "\n",
        "history = model.fit(sequences_matrix_big,\n",
        "                    bigy,\n",
        "                    epochs=10,\n",
        "                    batch_size=512,\n",
        "                    validation_data=(sequences_matrix_val, y_val))\n",
        "\n",
        "\n",
        "acc = history.history['accuracy']\n",
        "val_acc_values = history.history['val_accuracy']\n",
        "loss = history.history['loss']\n",
        "val_loss = history.history['val_loss']\n",
        "\n",
        "epochs = range(1, len(acc) + 1)\n",
        "\n",
        "plt.plot(epochs, loss, 'bo', label='Training loss')\n",
        "plt.plot(epochs, val_loss, 'b', label='Validation loss')\n",
        "plt.title('Training and validation loss')\n",
        "plt.xlabel('Epochs')\n",
        "plt.ylabel('Loss')\n",
        "plt.legend()\n",
        "\n",
        "plt.show()\n",
        "\n",
        "plt.plot(epochs, acc, 'bo', label='Training acc')\n",
        "plt.plot(epochs, val_acc_values, 'b', label='Validation acc')\n",
        "plt.title('Training and validation accuracy')\n",
        "plt.xlabel('Epochs')\n",
        "plt.ylabel('Accuracy')\n",
        "plt.legend()\n",
        "\n",
        "plt.show()\n",
        "\n",
        "model.evaluate(sequences_matrix_test, y_test)"
      ],
      "metadata": {
        "colab": {
          "base_uri": "https://localhost:8080/",
          "height": 1000
        },
        "id": "BrFasPLty1B8",
        "outputId": "4d817eae-b894-4457-fd7c-06aaaeac6514"
      },
      "execution_count": null,
      "outputs": [
        {
          "output_type": "stream",
          "name": "stdout",
          "text": [
            "Epoch 1/10\n",
            "312/312 [==============================] - 144s 454ms/step - loss: 0.1577 - accuracy: 0.9835 - val_loss: 0.1342 - val_accuracy: 0.9936\n",
            "Epoch 2/10\n",
            "312/312 [==============================] - 139s 445ms/step - loss: 0.0990 - accuracy: 0.9934 - val_loss: 0.0780 - val_accuracy: 0.9938\n",
            "Epoch 3/10\n",
            "312/312 [==============================] - 145s 464ms/step - loss: 0.0724 - accuracy: 0.9942 - val_loss: 0.0692 - val_accuracy: 0.9938\n",
            "Epoch 4/10\n",
            "312/312 [==============================] - 144s 462ms/step - loss: 0.0679 - accuracy: 0.9942 - val_loss: 0.0721 - val_accuracy: 0.9938\n",
            "Epoch 5/10\n",
            "312/312 [==============================] - 144s 461ms/step - loss: 0.0658 - accuracy: 0.9942 - val_loss: 0.0657 - val_accuracy: 0.9938\n",
            "Epoch 6/10\n",
            "312/312 [==============================] - 144s 462ms/step - loss: 0.0646 - accuracy: 0.9942 - val_loss: 0.0644 - val_accuracy: 0.9938\n",
            "Epoch 7/10\n",
            "312/312 [==============================] - 142s 456ms/step - loss: 0.0642 - accuracy: 0.9942 - val_loss: 0.0644 - val_accuracy: 0.9938\n",
            "Epoch 8/10\n",
            "312/312 [==============================] - 144s 463ms/step - loss: 0.0636 - accuracy: 0.9942 - val_loss: 0.0645 - val_accuracy: 0.9938\n",
            "Epoch 9/10\n",
            "312/312 [==============================] - 144s 461ms/step - loss: 0.0631 - accuracy: 0.9942 - val_loss: 0.0632 - val_accuracy: 0.9938\n",
            "Epoch 10/10\n",
            "312/312 [==============================] - 144s 461ms/step - loss: 0.0628 - accuracy: 0.9942 - val_loss: 0.0720 - val_accuracy: 0.9938\n"
          ]
        },
        {
          "output_type": "display_data",
          "data": {
            "text/plain": [
              "<Figure size 640x480 with 1 Axes>"
            ],
            "image/png": "[encoded data removed]"
          },
          "metadata": {}
        },
        {
          "output_type": "display_data",
          "data": {
            "text/plain": [
              "<Figure size 640x480 with 1 Axes>"
            ],
            "image/png": "[encoded data removed]"
          },
          "metadata": {}
        },
        {
          "output_type": "stream",
          "name": "stdout",
          "text": [
            "998/998 [==============================] - 17s 17ms/step - loss: 0.0689 - accuracy: 0.9940\n"
          ]
        },
        {
          "output_type": "execute_result",
          "data": {
            "text/plain": [
              "[0.06892089545726776, 0.9939526915550232]"
            ]
          },
          "metadata": {},
          "execution_count": 15
        }
      ]
    },
    {
      "cell_type": "code",
      "source": [
        "results = model.evaluate(sequences_matrix_test, y_test)"
      ],
      "metadata": {
        "colab": {
          "base_uri": "https://localhost:8080/"
        },
        "id": "kvNkpcBkzNSX",
        "outputId": "6721ca53-af0c-4ba2-ce27-82aec563e789"
      },
      "execution_count": null,
      "outputs": [
        {
          "output_type": "stream",
          "name": "stdout",
          "text": [
            "998/998 [==============================] - 17s 17ms/step - loss: 0.0689 - accuracy: 0.9940\n"
          ]
        }
      ]
    }
  ]
}